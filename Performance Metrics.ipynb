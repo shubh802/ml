{
 "cells": [
  {
   "cell_type": "markdown",
   "metadata": {},
   "source": [
    "### Performance Metrics on MultiClass Classification"
   ]
  },
  {
   "cell_type": "code",
   "execution_count": 1,
   "metadata": {},
   "outputs": [
    {
     "name": "stderr",
     "output_type": "stream",
     "text": [
      "c:\\users\\ag20459\\appdata\\local\\continuum\\anaconda3\\envs\\tf2_2\\lib\\importlib\\_bootstrap.py:219: RuntimeWarning: numpy.ufunc size changed, may indicate binary incompatibility. Expected 192 from C header, got 216 from PyObject\n",
      "  return f(*args, **kwds)\n"
     ]
    }
   ],
   "source": [
    "from sklearn import metrics"
   ]
  },
  {
   "cell_type": "code",
   "execution_count": 2,
   "metadata": {},
   "outputs": [],
   "source": [
    "C=\"Cat\"\n",
    "D=\"Dog\"\n",
    "F=\"Fox\""
   ]
  },
  {
   "cell_type": "code",
   "execution_count": 4,
   "metadata": {},
   "outputs": [
    {
     "name": "stdout",
     "output_type": "stream",
     "text": [
      "[[4 1 1]\n",
      " [3 8 0]\n",
      " [5 2 2]]\n",
      "              precision    recall  f1-score   support\n",
      "\n",
      "         Cat      0.333     0.667     0.444         6\n",
      "         Dog      0.727     0.727     0.727        11\n",
      "         Fox      0.667     0.222     0.333         9\n",
      "\n",
      "    accuracy                          0.538        26\n",
      "   macro avg      0.576     0.539     0.502        26\n",
      "weighted avg      0.615     0.538     0.526        26\n",
      "\n"
     ]
    }
   ],
   "source": [
    "# True Values\n",
    "y_true = [C,C,C,C,C,C, F,F,F,F,F,F,F,F,F, D,D,D,D,D,D,D,D,D,D,D]\n",
    "#pred_value\n",
    "y_pred = [C,C,C,C,D,F, C,C,C,C,C,D,D,F,F, C,C,C,D,D,D,D,D,D,D,D]\n",
    "\n",
    "#Print the confusion matrix\n",
    "print(metrics.confusion_matrix(y_true, y_pred))\n",
    "\n",
    "#Print the precision and recall,among other metrics\n",
    "print(metrics.classification_report(y_true, y_pred, digits=3))"
   ]
  },
  {
   "cell_type": "code",
   "execution_count": null,
   "metadata": {},
   "outputs": [],
   "source": []
  }
 ],
 "metadata": {
  "kernelspec": {
   "display_name": "Python 3",
   "language": "python",
   "name": "python3"
  },
  "language_info": {
   "codemirror_mode": {
    "name": "ipython",
    "version": 3
   },
   "file_extension": ".py",
   "mimetype": "text/x-python",
   "name": "python",
   "nbconvert_exporter": "python",
   "pygments_lexer": "ipython3",
   "version": "3.7.0"
  }
 },
 "nbformat": 4,
 "nbformat_minor": 4
}
